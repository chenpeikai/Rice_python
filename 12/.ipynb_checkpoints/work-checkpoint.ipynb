{
 "cells": [
  {
   "cell_type": "code",
   "execution_count": 1,
   "metadata": {
    "collapsed": true
   },
   "outputs": [],
   "source": [
    "\"\"\"\n",
    "Provide code and solution for Application 4\n",
    "\"\"\"\n",
    "\n",
    "DESKTOP = True\n",
    "\n",
    "import math\n",
    "import random\n",
    "import urllib2\n",
    "\n",
    "if DESKTOP:\n",
    "    import matplotlib.pyplot as plt\n",
    "    import similarity as student\n",
    "else:\n",
    "    import simpleplot\n",
    "    import userXX_XXXXXXX as student\n",
    "    \n",
    "\n",
    "# URLs for data files\n",
    "PAM50_URL = \"http://storage.googleapis.com/codeskulptor-alg/alg_PAM50.txt\"\n",
    "HUMAN_EYELESS_URL = \"http://storage.googleapis.com/codeskulptor-alg/alg_HumanEyelessProtein.txt\"\n",
    "FRUITFLY_EYELESS_URL = \"http://storage.googleapis.com/codeskulptor-alg/alg_FruitflyEyelessProtein.txt\"\n",
    "CONSENSUS_PAX_URL = \"http://storage.googleapis.com/codeskulptor-alg/alg_ConsensusPAXDomain.txt\"\n",
    "WORD_LIST_URL = \"http://storage.googleapis.com/codeskulptor-assets/assets_scrabble_words3.txt\"\n",
    "\n",
    "\n",
    "\n",
    "###############################################\n",
    "# provided code\n",
    "\n",
    "def read_scoring_matrix(filename):\n",
    "    \"\"\"\n",
    "    Read a scoring matrix from the file named filename.  \n",
    "\n",
    "    Argument:\n",
    "    filename -- name of file containing a scoring matrix\n",
    "\n",
    "    Returns:\n",
    "    A dictionary of dictionaries mapping X and Y characters to scores\n",
    "    \"\"\"\n",
    "    scoring_dict = {}\n",
    "    scoring_file = urllib2.urlopen(filename)\n",
    "    ykeys = scoring_file.readline()\n",
    "    ykeychars = ykeys.split()\n",
    "    for line in scoring_file.readlines():\n",
    "        vals = line.split()\n",
    "        xkey = vals.pop(0)\n",
    "        scoring_dict[xkey] = {}\n",
    "        for ykey, val in zip(ykeychars, vals):\n",
    "            scoring_dict[xkey][ykey] = int(val)\n",
    "    return scoring_dict\n",
    "\n",
    "\n",
    "\n",
    "\n",
    "def read_protein(filename):\n",
    "    \"\"\"\n",
    "    Read a protein sequence from the file named filename.\n",
    "\n",
    "    Arguments:\n",
    "    filename -- name of file containing a protein sequence\n",
    "\n",
    "    Returns:\n",
    "    A string representing the protein\n",
    "    \"\"\"\n",
    "    protein_file = urllib2.urlopen(filename)\n",
    "    protein_seq = protein_file.read()\n",
    "    protein_seq = protein_seq.rstrip()\n",
    "    return protein_seq\n",
    "\n",
    "\n",
    "def read_words(filename):\n",
    "    \"\"\"\n",
    "    Load word list from the file named filename.\n",
    "\n",
    "    Returns a list of strings.\n",
    "    \"\"\"\n",
    "    # load assets\n",
    "    word_file = urllib2.urlopen(filename)\n",
    "    \n",
    "    # read in files as string\n",
    "    words = word_file.read()\n",
    "    \n",
    "    # template lines and solution lines list of line string\n",
    "    word_list = words.split('\\n')\n",
    "    print \"Loaded a dictionary with\", len(word_list), \"words\"\n",
    "    return word_list\n"
   ]
  },
  {
   "cell_type": "code",
   "execution_count": 2,
   "metadata": {
    "collapsed": true
   },
   "outputs": [],
   "source": [
    "human_eyeless_protein = read_protein(HUMAN_EYELESS_URL)\n",
    "fruitfly_eyeless_protein = read_protein(FRUITFLY_EYELESS_URL)\n",
    "pam50 = read_scoring_matrix(PAM50_URL)\n",
    "alignment_matrix = student.compute_alignment_matrix(human_eyeless_protein,fruitfly_eyeless_protein,pam50,False)\n",
    "scores,alignment_seq1,alignment_seq2 =  student.compute_local_alignment(human_eyeless_protein,fruitfly_eyeless_protein,pam50,alignment_matrix)"
   ]
  },
  {
   "cell_type": "code",
   "execution_count": 5,
   "metadata": {
    "collapsed": false
   },
   "outputs": [],
   "source": [
    "a = 'af'"
   ]
  }
 ],
 "metadata": {
  "kernelspec": {
   "display_name": "Python 2",
   "language": "python",
   "name": "python2"
  },
  "language_info": {
   "codemirror_mode": {
    "name": "ipython",
    "version": 2
   },
   "file_extension": ".py",
   "mimetype": "text/x-python",
   "name": "python",
   "nbconvert_exporter": "python",
   "pygments_lexer": "ipython2",
   "version": "2.7.6"
  }
 },
 "nbformat": 4,
 "nbformat_minor": 0
}

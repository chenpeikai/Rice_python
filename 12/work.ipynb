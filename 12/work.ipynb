{
 "cells": [
  {
   "cell_type": "code",
   "execution_count": 1,
   "metadata": {
    "collapsed": true
   },
   "outputs": [],
   "source": [
    "\"\"\"\n",
    "Provide code and solution for Application 4\n",
    "\"\"\"\n",
    "\n",
    "DESKTOP = True\n",
    "\n",
    "import math\n",
    "import random\n",
    "import urllib2\n",
    "import random\n",
    "\n",
    "if DESKTOP:\n",
    "    import matplotlib.pyplot as plt\n",
    "    import similarity as student\n",
    "else:\n",
    "    import simpleplot\n",
    "    import userXX_XXXXXXX as student\n",
    "    \n",
    "\n",
    "# URLs for data files\n",
    "PAM50_URL = \"http://storage.googleapis.com/codeskulptor-alg/alg_PAM50.txt\"\n",
    "HUMAN_EYELESS_URL = \"http://storage.googleapis.com/codeskulptor-alg/alg_HumanEyelessProtein.txt\"\n",
    "FRUITFLY_EYELESS_URL = \"http://storage.googleapis.com/codeskulptor-alg/alg_FruitflyEyelessProtein.txt\"\n",
    "CONSENSUS_PAX_URL = \"http://storage.googleapis.com/codeskulptor-alg/alg_ConsensusPAXDomain.txt\"\n",
    "WORD_LIST_URL = \"http://storage.googleapis.com/codeskulptor-assets/assets_scrabble_words3.txt\"\n",
    "\n",
    "\n",
    "\n",
    "###############################################\n",
    "# provided code\n",
    "\n",
    "def read_scoring_matrix(filename):\n",
    "    \"\"\"\n",
    "    Read a scoring matrix from the file named filename.  \n",
    "\n",
    "    Argument:\n",
    "    filename -- name of file containing a scoring matrix\n",
    "\n",
    "    Returns:\n",
    "    A dictionary of dictionaries mapping X and Y characters to scores\n",
    "    \"\"\"\n",
    "    scoring_dict = {}\n",
    "    scoring_file = urllib2.urlopen(filename)\n",
    "    ykeys = scoring_file.readline()\n",
    "    ykeychars = ykeys.split()\n",
    "    for line in scoring_file.readlines():\n",
    "        vals = line.split()\n",
    "        xkey = vals.pop(0)\n",
    "        scoring_dict[xkey] = {}\n",
    "        for ykey, val in zip(ykeychars, vals):\n",
    "            scoring_dict[xkey][ykey] = int(val)\n",
    "    return scoring_dict\n",
    "\n",
    "\n",
    "\n",
    "\n",
    "def read_protein(filename):\n",
    "    \"\"\"\n",
    "    Read a protein sequence from the file named filename.\n",
    "\n",
    "    Arguments:\n",
    "    filename -- name of file containing a protein sequence\n",
    "\n",
    "    Returns:\n",
    "    A string representing the protein\n",
    "    \"\"\"\n",
    "    protein_file = urllib2.urlopen(filename)\n",
    "    protein_seq = protein_file.read()\n",
    "    protein_seq = protein_seq.rstrip()\n",
    "    return protein_seq\n",
    "\n",
    "\n",
    "def read_words(filename):\n",
    "    \"\"\"\n",
    "    Load word list from the file named filename.\n",
    "\n",
    "    Returns a list of strings.\n",
    "    \"\"\"\n",
    "    # load assets\n",
    "    word_file = urllib2.urlopen(filename)\n",
    "    \n",
    "    # read in files as string\n",
    "    words = word_file.read()\n",
    "    \n",
    "    # template lines and solution lines list of line string\n",
    "    word_list = words.split('\\n')\n",
    "    print \"Loaded a dictionary with\", len(word_list), \"words\"\n",
    "    return word_list\n"
   ]
  },
  {
   "cell_type": "code",
   "execution_count": 2,
   "metadata": {
    "collapsed": false
   },
   "outputs": [
    {
     "name": "stdout",
     "output_type": "stream",
     "text": [
      "875\n",
      "HSGVNQLGGVFVNGRPLPDSTRQKIVELAHSGARPCDISRILQVSNGCVSKILGRYYETGSIRPRAIGGSKPRVATPEVVSKIAQYKRECPSIFAWEIRDRLLSEGVCTNDNIPSVSSINRVLRNLASEK-QQ\n",
      "HSGVNQLGGVFVGGRPLPDSTRQKIVELAHSGARPCDISRILQVSNGCVSKILGRYYETGSIRPRAIGGSKPRVATAEVVSKISQYKRECPSIFAWEIRDRLLQENVCTNDNIPSVSSINRVLRNLAAQKEQQ\n"
     ]
    }
   ],
   "source": [
    "human_eyeless_protein = read_protein(HUMAN_EYELESS_URL)\n",
    "fruitfly_eyeless_protein = read_protein(FRUITFLY_EYELESS_URL)\n",
    "pam50 = read_scoring_matrix(PAM50_URL)\n",
    "alignment_matrix = student.compute_alignment_matrix(human_eyeless_protein,fruitfly_eyeless_protein,pam50,False)\n",
    "scores,alignment_human,alignment_fruitfly =  student.compute_local_alignment(human_eyeless_protein,\n",
    "                                                                             fruitfly_eyeless_protein,pam50,alignment_matrix)\n",
    "print scores\n",
    "print alignment_human\n",
    "print alignment_fruitfly"
   ]
  },
  {
   "cell_type": "code",
   "execution_count": 3,
   "metadata": {
    "collapsed": false,
    "scrolled": true
   },
   "outputs": [
    {
     "name": "stdout",
     "output_type": "stream",
     "text": [
      "human is  0.729323308271\n",
      "fruitfly is  0.701492537313\n"
     ]
    }
   ],
   "source": [
    "human_dash_less = alignment_human.replace('-','')\n",
    "fruitfly_dash_less = alignment_fruitfly.replace('-','')\n",
    "pax_domain = read_protein(CONSENSUS_PAX_URL)\n",
    "\n",
    "def agree_percentage(seq_x,seq_y):\n",
    "    length = len(seq_x)\n",
    "    num = 0\n",
    "    for i in range(length):\n",
    "        if seq_x[i] == seq_y[i]:\n",
    "            num += 1\n",
    "    return float(num) / float(length)\n",
    "alignment_matrix = student.compute_alignment_matrix(human_dash_less,pax_domain,pam50,True)\n",
    "scores,seq_x,seq_y =  student.compute_global_alignment(human_dash_less,pax_domain,pam50,alignment_matrix)\n",
    "print 'human is ',agree_percentage(seq_x,seq_y)\n",
    "alignment_matrix = student.compute_alignment_matrix(fruitfly_dash_less,pax_domain,pam50,True)\n",
    "scores,seq_x,seq_y =  student.compute_global_alignment(fruitfly_dash_less,pax_domain,pam50,alignment_matrix)\n",
    "print 'fruitfly is ',agree_percentage(seq_x,seq_y)"
   ]
  },
  {
   "cell_type": "code",
   "execution_count": 4,
   "metadata": {
    "collapsed": false
   },
   "outputs": [
    {
     "name": "stdout",
     "output_type": "stream",
     "text": [
      "human is  0.056\n",
      "fruitfly is  0.08\n"
     ]
    }
   ],
   "source": [
    "acid = \"ACBEDGFIHKMLNQPSRTWVYXZ\"\n",
    "rand_x = [acid[random.randrange(len(acid))] for _ in range(len(human_dash_less))]\n",
    "rand_y = [acid[random.randrange(len(acid))] for _ in range(len(human_dash_less))]\n",
    "\n",
    "alignment_matrix = student.compute_alignment_matrix(rand_x,rand_y,pam50,False)\n",
    "scores,alignment_human,alignment_fruitfly =  student.compute_local_alignment(rand_x,\n",
    "                                                                             rand_y,pam50,alignment_matrix)\n",
    "human_dash_less = alignment_human.replace('-','')\n",
    "fruitfly_dash_less = alignment_fruitfly.replace('-','')\n",
    "\n",
    "alignment_matrix = student.compute_alignment_matrix(human_dash_less,pax_domain,pam50,True)\n",
    "scores,seq_x,seq_y =  student.compute_global_alignment(human_dash_less,pax_domain,pam50,alignment_matrix)\n",
    "print 'human is ',agree_percentage(seq_x,seq_y)\n",
    "alignment_matrix = student.compute_alignment_matrix(fruitfly_dash_less,pax_domain,pam50,True)\n",
    "scores,seq_x,seq_y =  student.compute_global_alignment(fruitfly_dash_less,pax_domain,pam50,alignment_matrix)\n",
    "print 'fruitfly is ',agree_percentage(seq_x,seq_y)"
   ]
  },
  {
   "cell_type": "code",
   "execution_count": 5,
   "metadata": {
    "collapsed": true
   },
   "outputs": [],
   "source": [
    "import random\n",
    "%matplotlib inline"
   ]
  },
  {
   "cell_type": "code",
   "execution_count": 6,
   "metadata": {
    "collapsed": false
   },
   "outputs": [],
   "source": [
    "def word_shuffle(string):\n",
    "    word_list = list(string)\n",
    "    random.shuffle(word_list)\n",
    "    return ''.join(word_list)\n",
    "def generate_null_distribution(seq_x, seq_y, scoring_matrix, num_trials) :\n",
    "    scoring_distribution = {}\n",
    "    for _ in range(num_trials):\n",
    "        rand_y = word_shuffle(seq_y)\n",
    "        alignment_matrix = student.compute_alignment_matrix(seq_x,rand_y,scoring_matrix,False)\n",
    "        scores,_,_ =  student.compute_local_alignment(seq_x,rand_y,scoring_matrix,alignment_matrix)\n",
    "        if scoring_distribution.has_key(scores):\n",
    "            scoring_distribution[scores] += 1\n",
    "        else:\n",
    "            scoring_distribution[scores] = 1\n",
    "    return scoring_distribution\n",
    "\n",
    "distribution = generate_null_distribution(human_eyeless_protein,fruitfly_eyeless_protein,pam50,1000)"
   ]
  },
  {
   "cell_type": "code",
   "execution_count": 7,
   "metadata": {
    "collapsed": false
   },
   "outputs": [
    {
     "data": {
      "text/plain": [
       "<Container object of 39 artists>"
      ]
     },
     "execution_count": 7,
     "metadata": {},
     "output_type": "execute_result"
    },
    {
     "data": {
      "image/png": "[encoded data removed]",
      "text/plain": [
       "<matplotlib.figure.Figure at 0x7f42f0543210>"
      ]
     },
     "metadata": {},
     "output_type": "display_data"
    }
   ],
   "source": [
    "plt.xlabel('scores')\n",
    "plt.ylabel('times')\n",
    "plt.title('distribution of the scores')\n",
    "plt.bar(distribution.keys(),distribution.values())"
   ]
  },
  {
   "cell_type": "code",
   "execution_count": 9,
   "metadata": {
    "collapsed": false,
    "scrolled": true
   },
   "outputs": [],
   "source": [
    "import numpy\n",
    "import scipy\n",
    "times = numpy.array(distribution.values())\n",
    "scores = numpy.array(distribution.keys())\n",
    "scores_mean = times.dot(scores)/1000\n",
    "# D(X)= E(X^2) - E(X)*E(X)\n",
    "temp = scores - scores_mean\n",
    "temp = temp*temp\n",
    "scores_var = numpy.sqrt(temp.dot(times)/1000)"
   ]
  },
  {
   "cell_type": "code",
   "execution_count": 10,
   "metadata": {
    "collapsed": false
   },
   "outputs": [
    {
     "name": "stdout",
     "output_type": "stream",
     "text": [
      "mean 51\n",
      "var 6.48074069841\n",
      "127.145960369\n"
     ]
    }
   ],
   "source": [
    "alignment_matrix = student.compute_alignment_matrix(human_eyeless_protein,fruitfly_eyeless_protein,pam50,False)\n",
    "scores,_,_ =  student.compute_local_alignment(human_eyeless_protein,fruitfly_eyeless_protein,pam50,alignment_matrix)\n",
    "z_scores = (scores - scores_mean) / scores_var\n",
    "print 'mean',scores_mean\n",
    "print 'var',scores_var\n",
    "print z_scores"
   ]
  },
  {
   "cell_type": "code",
   "execution_count": 42,
   "metadata": {
    "collapsed": false,
    "scrolled": true
   },
   "outputs": [
    {
     "name": "stdout",
     "output_type": "stream",
     "text": [
      "Loaded a dictionary with 79340 words\n"
     ]
    }
   ],
   "source": [
    "all_words = read_words(WORD_LIST_URL)\n",
    "def check_spelling(checked_word, dist, word_list) :\n",
    "    '''\n",
    "    check the spelling in word list\n",
    "    '''\n",
    "    all_char = 'abcdefghijklmnopqrstuvwxyz/:._1234567890'\n",
    "    scores_matrix = student.build_scoring_matrix(all_char,1,0,0)\n",
    "    wrong_words = set()\n",
    "    for words in word_list:\n",
    "        #print words\n",
    "        alignment_matrix = student.compute_alignment_matrix(checked_word,words,scores_matrix,True)\n",
    "        scores,seq_x,_ = student.compute_global_alignment(checked_word,words,scores_matrix,alignment_matrix)\n",
    "        if len(seq_x)- scores <= dist:\n",
    "            wrong_words.add(words)\n",
    "    return wrong_words"
   ]
  },
  {
   "cell_type": "code",
   "execution_count": 43,
   "metadata": {
    "collapsed": false,
    "scrolled": true
   },
   "outputs": [
    {
     "data": {
      "text/plain": [
       "{'bumble',\n",
       " 'fumble',\n",
       " 'humble',\n",
       " 'humbled',\n",
       " 'humbler',\n",
       " 'humbles',\n",
       " 'humbly',\n",
       " 'jumble',\n",
       " 'mumble',\n",
       " 'rumble',\n",
       " 'tumble'}"
      ]
     },
     "execution_count": 43,
     "metadata": {},
     "output_type": "execute_result"
    }
   ],
   "source": [
    "check_spelling('humble',1,all_words)"
   ]
  },
  {
   "cell_type": "code",
   "execution_count": null,
   "metadata": {
    "collapsed": false
   },
   "outputs": [],
   "source": [
    "all_char = 'abcdefghijklmnopqrstuvwxyz/:._1234567890'\n",
    "scores_matrix = student.build_scoring_matrix(all_char,1,0,0)\n",
    "alignment_matrix = student.compute_alignment_matrix('abc','abd',scores_matrix,True)\n",
    "scores,seq_d,_ = student.compute_global_alignment('abc','abd',scores_matrix,alignment_matrix)\n",
    "print scores\n",
    "print seq_x"
   ]
  },
  {
   "cell_type": "code",
   "execution_count": 41,
   "metadata": {
    "collapsed": false
   },
   "outputs": [
    {
     "data": {
      "text/plain": [
       "set()"
      ]
     },
     "execution_count": 41,
     "metadata": {},
     "output_type": "execute_result"
    }
   ],
   "source": [
    "check_spelling('firefly',2,all_words)"
   ]
  },
  {
   "cell_type": "code",
   "execution_count": 40,
   "metadata": {
    "collapsed": false
   },
   "outputs": [],
   "source": [
    "set(['bumble', 'fumble', 'humble', 'humbled', 'humbler', 'humbles', 'humbly', 'jumble', 'mumble', 'rumble', 'tumble'])\n"
   ]
  },
  {
   "cell_type": "code",
   "execution_count": null,
   "metadata": {
    "collapsed": true
   },
   "outputs": [],
   "source": []
  }
 ],
 "metadata": {
  "kernelspec": {
   "display_name": "Python 2",
   "language": "python",
   "name": "python2"
  },
  "language_info": {
   "codemirror_mode": {
    "name": "ipython",
    "version": 2
   },
   "file_extension": ".py",
   "mimetype": "text/x-python",
   "name": "python",
   "nbconvert_exporter": "python",
   "pygments_lexer": "ipython2",
   "version": "2.7.6"
  }
 },
 "nbformat": 4,
 "nbformat_minor": 0
}

{
 "cells": [
  {
   "cell_type": "code",
   "execution_count": 1,
   "metadata": {
    "collapsed": false
   },
   "outputs": [],
   "source": [
    "import load\n",
    "import random\n",
    "import work\n",
    "import matplotlib.pyplot as plt\n",
    "from upa import UPATrial"
   ]
  },
  {
   "cell_type": "code",
   "execution_count": 2,
   "metadata": {
    "collapsed": false
   },
   "outputs": [
    {
     "name": "stdout",
     "output_type": "stream",
     "text": [
      "Loaded graph with 1239 nodes\n"
     ]
    }
   ],
   "source": [
    "computer_network = load.load_graph(load.NETWORK_URL)"
   ]
  },
  {
   "cell_type": "code",
   "execution_count": 3,
   "metadata": {
    "collapsed": true
   },
   "outputs": [],
   "source": [
    "def make_ER_graph(num_nodes,p):\n",
    "    '''\n",
    "    connect nodes with probility p\n",
    "    '''\n",
    "    graph = {}\n",
    "    for i in range(num_nodes):\n",
    "        if not graph.has_key(i):\n",
    "            graph[i] = set()\n",
    "        for j in range(i+1,num_nodes):\n",
    "            if random.random() < p:\n",
    "                if graph.has_key(i):\n",
    "                    graph[i].add(j)\n",
    "                else:\n",
    "                    graph[i] = set([j])\n",
    "                if graph.has_key(j):\n",
    "                    graph[j].add(i)\n",
    "                else:\n",
    "                    graph[j] = set([i])\n",
    "    return graph\n",
    "\n",
    "def make_complete_graph(num_nodes):\n",
    "    '''\n",
    "    Takes the number of nodes num_nodes and returns a dictionary corresponding to a\n",
    "     complete directed graph with the specified number of nodes\n",
    "    '''\n",
    "    graph = {}\n",
    "    for index in range(num_nodes):\n",
    "        temp = set(range(num_nodes))\n",
    "        temp.remove(index)\n",
    "        graph[index] = temp\n",
    "    return graph"
   ]
  },
  {
   "cell_type": "code",
   "execution_count": 4,
   "metadata": {
    "collapsed": false
   },
   "outputs": [],
   "source": [
    "def random_order(ugraph):\n",
    "    order = ugraph.keys()\n",
    "    random.shuffle(order)\n",
    "    return order"
   ]
  },
  {
   "cell_type": "markdown",
   "metadata": {},
   "source": [
    "## 模拟用随机攻击法攻击网络"
   ]
  },
  {
   "cell_type": "code",
   "execution_count": 5,
   "metadata": {
    "collapsed": false
   },
   "outputs": [
    {
     "name": "stdout",
     "output_type": "stream",
     "text": [
      "Loaded graph with 1239 nodes\n"
     ]
    }
   ],
   "source": [
    "computer_network = load.load_graph(load.NETWORK_URL)\n",
    "attack_order = random_order(computer_network)\n",
    "data1 = work.compute_resilience(computer_network,attack_order)\n",
    "\n",
    "er_graph = make_ER_graph(1239,0.004)\n",
    "attack_order = random_order(er_graph)\n",
    "data2 = work.compute_resilience(er_graph,attack_order)\n",
    "\n",
    "upa_graph = make_complete_graph(3)\n",
    "upa = UPATrial(3)\n",
    "for i in range(3,1239):\n",
    "    temp = upa.run_trial(3)\n",
    "    upa_graph[i] = temp\n",
    "    for j in temp:\n",
    "        upa_graph[j].add(i)\n",
    "attack_order = random_order(upa_graph)\n",
    "data3 = work.compute_resilience(upa_graph,attack_order)\n",
    "\n",
    "temp = range(len(data1))\n",
    "plt.plot(temp,data1,'r',temp,data2,'b',temp,data3,'y')\n",
    "plt.legend(('computer network','er graph with p = 0.004','upa graph with m = 3'))\n",
    "plt.title('resilience of three graph')\n",
    "plt.xlabel('The Nth attack')\n",
    "plt.ylabel('resilience')\n",
    "plt.show()"
   ]
  },
  {
   "cell_type": "code",
   "execution_count": 17,
   "metadata": {
    "collapsed": false
   },
   "outputs": [],
   "source": [
    "import load"
   ]
  },
  {
   "cell_type": "code",
   "execution_count": 18,
   "metadata": {
    "collapsed": false
   },
   "outputs": [
    {
     "data": {
      "text/plain": [
       "[1, 2, 0, 3]"
      ]
     },
     "execution_count": 18,
     "metadata": {},
     "output_type": "execute_result"
    }
   ],
   "source": [
    "GRAPH0 = {0: set([1]),\n",
    "          1: set([0, 2]),\n",
    "          2: set([1, 3]),\n",
    "          3: set([2])}\n",
    "load.fast_targeted_order(GRAPH0)"
   ]
  },
  {
   "cell_type": "markdown",
   "metadata": {
    "collapsed": false
   },
   "source": [
    "## 比较算法运行时间"
   ]
  },
  {
   "cell_type": "code",
   "execution_count": 19,
   "metadata": {
    "collapsed": false
   },
   "outputs": [],
   "source": [
    "import time\n",
    "nums = range(10, 1000, 10)\n",
    "times_slow = []\n",
    "times_fast = []\n",
    "for n in range(10, 1000, 10):\n",
    "    upa_graph = make_complete_graph(5)\n",
    "    upa = UPATrial(5)\n",
    "    for i in range(5,n):\n",
    "        temp = upa.run_trial(5)\n",
    "        upa_graph[i] = temp\n",
    "        for j in temp:\n",
    "            upa_graph[j].add(i)\n",
    "    start = time.clock()\n",
    "    load.targeted_order(upa_graph)\n",
    "    end = time.clock()\n",
    "    times_slow.append(end-start)\n",
    "    \n",
    "    start = time.clock()\n",
    "    load.fast_targeted_order(upa_graph)\n",
    "    end = time.clock()\n",
    "    times_fast.append(end-start)"
   ]
  },
  {
   "cell_type": "code",
   "execution_count": 20,
   "metadata": {
    "collapsed": false
   },
   "outputs": [],
   "source": [
    "plt.plot(nums,times_slow,'b',nums,times_fast,'r')\n",
    "plt.title('running time of two algorithm')\n",
    "plt.legend(('slow way','fast way'))\n",
    "plt.xlabel('size of input')\n",
    "plt.ylabel('running time')\n",
    "plt.show()"
   ]
  },
  {
   "cell_type": "markdown",
   "metadata": {},
   "source": [
    "## 模拟用根据链接的方法攻击网络"
   ]
  },
  {
   "cell_type": "code",
   "execution_count": 21,
   "metadata": {
    "collapsed": false
   },
   "outputs": [
    {
     "name": "stdout",
     "output_type": "stream",
     "text": [
      "Loaded graph with 1239 nodes\n"
     ]
    }
   ],
   "source": [
    "computer_network = load.load_graph(load.NETWORK_URL)\n",
    "attack_order = load.fast_targeted_order(computer_network)\n",
    "data1 = work.compute_resilience(computer_network,attack_order)\n",
    "\n",
    "er_graph = make_ER_graph(1239,0.004)\n",
    "attack_order = load.fast_targeted_order(er_graph)\n",
    "data2 = work.compute_resilience(er_graph,attack_order)\n",
    "\n",
    "upa_graph = make_complete_graph(3)\n",
    "upa = UPATrial(3)\n",
    "for i in range(3,1239):\n",
    "    temp = upa.run_trial(3)\n",
    "    upa_graph[i] = temp\n",
    "    for j in temp:\n",
    "        upa_graph[j].add(i)\n",
    "attack_order = load.fast_targeted_order(upa_graph)\n",
    "data3 = work.compute_resilience(upa_graph,attack_order)\n",
    "\n",
    "temp = range(len(data1))\n",
    "plt.plot(temp,data1,'r',temp,data2,'b',temp,data3,'y')\n",
    "plt.legend(('computer network','er graph','upa graph'))\n",
    "plt.title('resilience of three graph')\n",
    "plt.xlabel('The Nth attack')\n",
    "plt.ylabel('resilience')\n",
    "plt.show()"
   ]
  },
  {
   "cell_type": "code",
   "execution_count": null,
   "metadata": {
    "collapsed": true
   },
   "outputs": [],
   "source": []
  }
 ],
 "metadata": {
  "kernelspec": {
   "display_name": "Python 2",
   "language": "python",
   "name": "python2"
  },
  "language_info": {
   "codemirror_mode": {
    "name": "ipython",
    "version": 2
   },
   "file_extension": ".py",
   "mimetype": "text/x-python",
   "name": "python",
   "nbconvert_exporter": "python",
   "pygments_lexer": "ipython2",
   "version": "2.7.6"
  }
 },
 "nbformat": 4,
 "nbformat_minor": 0
}

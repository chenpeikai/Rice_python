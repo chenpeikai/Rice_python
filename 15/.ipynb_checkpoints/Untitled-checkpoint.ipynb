{
 "cells": [
  {
   "cell_type": "code",
   "execution_count": 1,
   "metadata": {
    "collapsed": false
   },
   "outputs": [],
   "source": [
    "import load\n",
    "import random\n",
    "import work\n",
    "import matplotlib.pyplot as plt\n",
    "from upa import UPATrial"
   ]
  },
  {
   "cell_type": "code",
   "execution_count": 2,
   "metadata": {
    "collapsed": false
   },
   "outputs": [
    {
     "name": "stdout",
     "output_type": "stream",
     "text": [
      "Loaded graph with 1239 nodes\n"
     ]
    }
   ],
   "source": [
    "computer_network = load.load_graph(load.NETWORK_URL)"
   ]
  },
  {
   "cell_type": "code",
   "execution_count": 3,
   "metadata": {
    "collapsed": true
   },
   "outputs": [],
   "source": [
    "def make_ER_graph(num_nodes,p):\n",
    "    '''\n",
    "    connect nodes with probility p\n",
    "    '''\n",
    "    graph = {}\n",
    "    for i in range(num_nodes):\n",
    "        if not graph.has_key(i):\n",
    "            graph[i] = set()\n",
    "        for j in range(i+1,num_nodes):\n",
    "            if random.random() < p:\n",
    "                if graph.has_key(i):\n",
    "                    graph[i].add(j)\n",
    "                else:\n",
    "                    graph[i] = set([j])\n",
    "                if graph.has_key(j):\n",
    "                    graph[j].add(i)\n",
    "                else:\n",
    "                    graph[j] = set([i])\n",
    "    return graph\n",
    "\n",
    "def make_complete_graph(num_nodes):\n",
    "    '''\n",
    "    Takes the number of nodes num_nodes and returns a dictionary corresponding to a\n",
    "     complete directed graph with the specified number of nodes\n",
    "    '''\n",
    "    graph = {}\n",
    "    for index in range(num_nodes):\n",
    "        temp = set(range(num_nodes))\n",
    "        temp.remove(index)\n",
    "        graph[index] = temp\n",
    "    return graph"
   ]
  },
  {
   "cell_type": "code",
   "execution_count": 4,
   "metadata": {
    "collapsed": false
   },
   "outputs": [],
   "source": [
    "def random_order(ugraph):\n",
    "    order = ugraph.keys()\n",
    "    random.shuffle(order)\n",
    "    return order"
   ]
  },
  {
   "cell_type": "markdown",
   "metadata": {},
   "source": [
    "## 模拟用随机攻击法攻击网络"
   ]
  },
  {
   "cell_type": "code",
   "execution_count": 5,
   "metadata": {
    "collapsed": false
   },
   "outputs": [
    {
     "name": "stdout",
     "output_type": "stream",
     "text": [
      "Loaded graph with 1239 nodes\n"
     ]
    }
   ],
   "source": [
    "computer_network = load.load_graph(load.NETWORK_URL)\n",
    "attack_order = random_order(computer_network)\n",
    "data1 = work.compute_resilience(computer_network,attack_order)\n",
    "\n",
    "er_graph = make_ER_graph(1239,0.004)\n",
    "attack_order = random_order(er_graph)\n",
    "data2 = work.compute_resilience(er_graph,attack_order)\n",
    "\n",
    "upa_graph = make_complete_graph(3)\n",
    "upa = UPATrial(3)\n",
    "for i in range(3,1239):\n",
    "    temp = upa.run_trial(3)\n",
    "    upa_graph[i] = temp\n",
    "    for j in temp:\n",
    "        upa_graph[j].add(i)\n",
    "attack_order = random_order(upa_graph)\n",
    "data3 = work.compute_resilience(upa_graph,attack_order)\n",
    "\n",
    "temp = range(len(data1))\n",
    "plt.plot(temp,data1,'r',temp,data2,'b',temp,data3,'y')\n",
    "plt.legend(('computer network','er graph','upa graph'))\n",
    "plt.title('resilience of three graph')\n",
    "plt.xlabel('The Nth attack')\n",
    "plt.ylabel('resilience')\n",
    "plt.show()"
   ]
  },
  {
   "cell_type": "code",
   "execution_count": 6,
   "metadata": {
    "collapsed": false
   },
   "outputs": [],
   "source": [
    "import load"
   ]
  },
  {
   "cell_type": "code",
   "execution_count": 7,
   "metadata": {
    "collapsed": false
   },
   "outputs": [
    {
     "data": {
      "text/plain": [
       "[1, 2, 0, 3]"
      ]
     },
     "execution_count": 7,
     "metadata": {},
     "output_type": "execute_result"
    }
   ],
   "source": [
    "GRAPH0 = {0: set([1]),\n",
    "          1: set([0, 2]),\n",
    "          2: set([1, 3]),\n",
    "          3: set([2])}\n",
    "load.fast_targeted_order(GRAPH0)"
   ]
  },
  {
   "cell_type": "markdown",
   "metadata": {
    "collapsed": false
   },
   "source": [
    "## 比较算法运行时间"
   ]
  },
  {
   "cell_type": "code",
   "execution_count": 8,
   "metadata": {
    "collapsed": false
   },
   "outputs": [],
   "source": [
    "import time\n",
    "nums = range(10, 1000, 10)\n",
    "times_slow = []\n",
    "times_fast = []\n",
    "for n in range(10, 1000, 10):\n",
    "    upa_graph = make_complete_graph(5)\n",
    "    upa = UPATrial(5)\n",
    "    for i in range(5,n):\n",
    "        temp = upa.run_trial(5)\n",
    "        upa_graph[i] = temp\n",
    "        for j in temp:\n",
    "            upa_graph[j].add(i)\n",
    "    start = time.clock()\n",
    "    load.targeted_order(upa_graph)\n",
    "    end = time.clock()\n",
    "    times_slow.append(end-start)\n",
    "    \n",
    "    start = time.clock()\n",
    "    load.fast_targeted_order(upa_graph)\n",
    "    end = time.clock()\n",
    "    times_fast.append(end-start)"
   ]
  },
  {
   "cell_type": "code",
   "execution_count": 9,
   "metadata": {
    "collapsed": false
   },
   "outputs": [],
   "source": [
    "plt.plot(nums,times_slow,'b',nums,times_fast,'r')\n",
    "plt.title('running time of two algorithm')\n",
    "plt.legend(('slow way','fast way'))\n",
    "plt.show()"
   ]
  },
  {
   "cell_type": "markdown",
   "metadata": {},
   "source": [
    "## 模拟用根据链接的方法攻击网络"
   ]
  },
  {
   "cell_type": "code",
   "execution_count": 11,
   "metadata": {
    "collapsed": false
   },
   "outputs": [
    {
     "name": "stdout",
     "output_type": "stream",
     "text": [
      "Loaded graph with 1239 nodes\n"
     ]
    }
   ],
   "source": [
    "computer_network = load.load_graph(load.NETWORK_URL)\n",
    "attack_order = load.fast_targeted_order(computer_network)\n",
    "data1 = work.compute_resilience(computer_network,attack_order)\n",
    "\n",
    "er_graph = make_ER_graph(1239,0.004)\n",
    "attack_order = load.fast_targeted_order(er_graph)\n",
    "data2 = work.compute_resilience(er_graph,attack_order)\n",
    "\n",
    "upa_graph = make_complete_graph(3)\n",
    "upa = UPATrial(3)\n",
    "for i in range(3,1239):\n",
    "    temp = upa.run_trial(3)\n",
    "    upa_graph[i] = temp\n",
    "    for j in temp:\n",
    "        upa_graph[j].add(i)\n",
    "attack_order = load.fast_targeted_order(upa_graph)\n",
    "data3 = work.compute_resilience(upa_graph,attack_order)\n",
    "\n",
    "temp = range(len(data1))\n",
    "plt.plot(temp,data1,'r',temp,data2,'b',temp,data3,'y')\n",
    "plt.legend(('computer network','er graph','upa graph'))\n",
    "plt.title('resilience of three graph')\n",
    "plt.xlabel('The Nth attack')\n",
    "plt.ylabel('resilience')\n",
    "plt.show()"
   ]
  },
  {
   "cell_type": "code",
   "execution_count": 23,
   "metadata": {
    "collapsed": false
   },
   "outputs": [
    {
     "name": "stdout",
     "output_type": "stream",
     "text": [
      "Loaded graph with 1239 nodes\n"
     ]
    }
   ],
   "source": [
    "computer_network = load.load_graph(load.NETWORK_URL)"
   ]
  },
  {
   "cell_type": "code",
   "execution_count": 18,
   "metadata": {
    "collapsed": false,
    "scrolled": true
   },
   "outputs": [
    {
     "name": "stdout",
     "output_type": "stream",
     "text": [
      "Loaded graph with 1239 nodes\n"
     ]
    }
   ],
   "source": [
    "computer_network = load.load_graph(load.NETWORK_URL)\n",
    "attack_order = load.fast_targeted_order(computer_network)"
   ]
  },
  {
   "cell_type": "code",
   "execution_count": 24,
   "metadata": {
    "collapsed": false
   },
   "outputs": [
    {
     "data": {
      "text/plain": [
       "{22,\n",
       " 24,\n",
       " 62,\n",
       " 114,\n",
       " 182,\n",
       " 211,\n",
       " 219,\n",
       " 234,\n",
       " 274,\n",
       " 310,\n",
       " 332,\n",
       " 345,\n",
       " 370,\n",
       " 385,\n",
       " 394,\n",
       " 420,\n",
       " 492,\n",
       " 550,\n",
       " 565,\n",
       " 600,\n",
       " 620,\n",
       " 633,\n",
       " 660,\n",
       " 664,\n",
       " 666,\n",
       " 680,\n",
       " 686,\n",
       " 691,\n",
       " 697,\n",
       " 714,\n",
       " 731,\n",
       " 742,\n",
       " 765,\n",
       " 772,\n",
       " 774,\n",
       " 776,\n",
       " 778,\n",
       " 788,\n",
       " 790,\n",
       " 797,\n",
       " 798,\n",
       " 807,\n",
       " 810,\n",
       " 832,\n",
       " 833,\n",
       " 835,\n",
       " 836,\n",
       " 840,\n",
       " 849,\n",
       " 850,\n",
       " 851,\n",
       " 879,\n",
       " 909,\n",
       " 923,\n",
       " 933,\n",
       " 942,\n",
       " 948,\n",
       " 969,\n",
       " 978,\n",
       " 989,\n",
       " 996,\n",
       " 1001,\n",
       " 1025,\n",
       " 1034,\n",
       " 1036,\n",
       " 1041,\n",
       " 1043,\n",
       " 1045,\n",
       " 1050,\n",
       " 1057,\n",
       " 1081,\n",
       " 1090,\n",
       " 1096,\n",
       " 1111,\n",
       " 1117,\n",
       " 1118,\n",
       " 1124,\n",
       " 1128,\n",
       " 1134,\n",
       " 1152,\n",
       " 1172,\n",
       " 1173,\n",
       " 1208,\n",
       " 1217,\n",
       " 1219,\n",
       " 1224,\n",
       " 1230,\n",
       " 1239,\n",
       " 1284,\n",
       " 1291,\n",
       " 1296,\n",
       " 1302,\n",
       " 1303,\n",
       " 1308,\n",
       " 1309,\n",
       " 1341}"
      ]
     },
     "execution_count": 24,
     "metadata": {},
     "output_type": "execute_result"
    }
   ],
   "source": [
    "computer_network[210]"
   ]
  },
  {
   "cell_type": "code",
   "execution_count": null,
   "metadata": {
    "collapsed": true
   },
   "outputs": [],
   "source": []
  }
 ],
 "metadata": {
  "kernelspec": {
   "display_name": "Python 2",
   "language": "python",
   "name": "python2"
  },
  "language_info": {
   "codemirror_mode": {
    "name": "ipython",
    "version": 2
   },
   "file_extension": ".py",
   "mimetype": "text/x-python",
   "name": "python",
   "nbconvert_exporter": "python",
   "pygments_lexer": "ipython2",
   "version": "2.7.6"
  }
 },
 "nbformat": 4,
 "nbformat_minor": 0
}

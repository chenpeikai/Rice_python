{
 "cells": [
  {
   "cell_type": "code",
   "execution_count": 1,
   "metadata": {
    "collapsed": false
   },
   "outputs": [
    {
     "name": "stdout",
     "output_type": "stream",
     "text": [
      "Loaded graph with 27770 nodes\n"
     ]
    }
   ],
   "source": [
    "import graph\n",
    "from load_graph import citation_graph\n",
    "import matplotlib.pyplot as plt"
   ]
  },
  {
   "cell_type": "code",
   "execution_count": 2,
   "metadata": {
    "collapsed": false
   },
   "outputs": [],
   "source": [
    "citation_ditributions = graph.in_degree_distribution(citation_graph)"
   ]
  },
  {
   "cell_type": "code",
   "execution_count": 10,
   "metadata": {
    "collapsed": false
   },
   "outputs": [],
   "source": [
    "def plot_ditributions(ditributions):\n",
    "    sum_value = sum(ditributions.values())\n",
    "    for key in ditributions.keys():\n",
    "        ditributions[key] = float(ditributions[key])/sum_value\n",
    "    in_degrees = sorted(ditributions.keys())\n",
    "    num_in_degrees = [ditributions[key] for key in in_degrees]\n",
    "    fig = plt.figure()\n",
    "    ax = fig.add_subplot(111)\n",
    "    ax.set_xscale(\"log\")\n",
    "    ax.set_yscale(\"log\")\n",
    "    ax.plot(in_degrees,num_in_degrees,'o')\n",
    "    plt.title('dpa ditribution')\n",
    "    plt.xlabel('log of number in_degree')\n",
    "    plt.ylabel('log of number has number x')\n",
    "    plt.show()\n",
    "plot_ditributions(citation_ditributions)"
   ]
  },
  {
   "cell_type": "code",
   "execution_count": 4,
   "metadata": {
    "collapsed": false
   },
   "outputs": [],
   "source": [
    "import random\n",
    "def generate_random_graph(num_node,p):\n",
    "    graph = {}\n",
    "    for node in range(num_node):\n",
    "        other_nodes = range(num_node)\n",
    "        other_nodes.remove(node)\n",
    "        graph[node] = set()\n",
    "        for node1 in other_nodes:\n",
    "            if random.random() < p:\n",
    "                graph[node].add(node1)\n",
    "    return graph"
   ]
  },
  {
   "cell_type": "code",
   "execution_count": 5,
   "metadata": {
    "collapsed": false
   },
   "outputs": [],
   "source": [
    "random_graph = generate_random_graph(500,0.5)\n",
    "fenbu = graph.in_degree_distribution(random_graph)\n",
    "plot_ditributions(fenbu)"
   ]
  },
  {
   "cell_type": "code",
   "execution_count": 6,
   "metadata": {
    "collapsed": true
   },
   "outputs": [],
   "source": [
    "from dpa import DPATrial"
   ]
  },
  {
   "cell_type": "code",
   "execution_count": 7,
   "metadata": {
    "collapsed": false
   },
   "outputs": [],
   "source": [
    "dpa_graph = graph.make_complete_graph(13)\n",
    "dpa = DPATrial(13)\n",
    "for i in range(13,27770):\n",
    "    dpa_graph[i] = dpa.run_trial(13)"
   ]
  },
  {
   "cell_type": "code",
   "execution_count": 11,
   "metadata": {
    "collapsed": false
   },
   "outputs": [],
   "source": [
    "fenbu = graph.in_degree_distribution(dpa_graph)\n",
    "plot_ditributions(fenbu)"
   ]
  },
  {
   "cell_type": "code",
   "execution_count": null,
   "metadata": {
    "collapsed": false
   },
   "outputs": [],
   "source": []
  },
  {
   "cell_type": "code",
   "execution_count": null,
   "metadata": {
    "collapsed": true
   },
   "outputs": [],
   "source": []
  }
 ],
 "metadata": {
  "kernelspec": {
   "display_name": "Python 2",
   "language": "python",
   "name": "python2"
  },
  "language_info": {
   "codemirror_mode": {
    "name": "ipython",
    "version": 2
   },
   "file_extension": ".py",
   "mimetype": "text/x-python",
   "name": "python",
   "nbconvert_exporter": "python",
   "pygments_lexer": "ipython2",
   "version": "2.7.6"
  }
 },
 "nbformat": 4,
 "nbformat_minor": 0
}
